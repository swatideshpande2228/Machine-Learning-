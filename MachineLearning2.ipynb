{
 "cells": [
  {
   "cell_type": "code",
   "execution_count": 1,
   "metadata": {},
   "outputs": [],
   "source": [
    "import csv\n",
    "import numpy as np\n",
    "import pandas as pd\n",
    "import matplotlib.pyplot as plt\n",
    "from sklearn.model_selection import train_test_split\n",
    "from sklearn.metrics import accuracy_score\n",
    "from sklearn import metrics\n",
    "from sklearn.preprocessing import StandardScaler\n",
    "from sklearn.model_selection import cross_val_score\n",
    "from sklearn.metrics import confusion_matrix\n",
    "import seaborn as sns\n",
    "import warnings\n",
    "warnings.simplefilter(\"ignore\")"
   ]
  },
  {
   "cell_type": "code",
   "execution_count": 2,
   "metadata": {},
   "outputs": [
    {
     "data": {
      "text/html": [
       "<div>\n",
       "<style scoped>\n",
       "    .dataframe tbody tr th:only-of-type {\n",
       "        vertical-align: middle;\n",
       "    }\n",
       "\n",
       "    .dataframe tbody tr th {\n",
       "        vertical-align: top;\n",
       "    }\n",
       "\n",
       "    .dataframe thead th {\n",
       "        text-align: right;\n",
       "    }\n",
       "</style>\n",
       "<table border=\"1\" class=\"dataframe\">\n",
       "  <thead>\n",
       "    <tr style=\"text-align: right;\">\n",
       "      <th></th>\n",
       "      <th>0</th>\n",
       "      <th>1</th>\n",
       "      <th>2</th>\n",
       "      <th>3</th>\n",
       "      <th>4</th>\n",
       "      <th>5</th>\n",
       "      <th>6</th>\n",
       "      <th>7</th>\n",
       "      <th>8</th>\n",
       "      <th>9</th>\n",
       "      <th>10</th>\n",
       "    </tr>\n",
       "  </thead>\n",
       "  <tbody>\n",
       "    <tr>\n",
       "      <th>0</th>\n",
       "      <td>11.67</td>\n",
       "      <td>12.8025</td>\n",
       "      <td>8.055075</td>\n",
       "      <td>34.65</td>\n",
       "      <td>1375.50</td>\n",
       "      <td>0.93005</td>\n",
       "      <td>19.145</td>\n",
       "      <td>4.4604</td>\n",
       "      <td>0.048668</td>\n",
       "      <td>0.175</td>\n",
       "      <td>c_avellana</td>\n",
       "    </tr>\n",
       "    <tr>\n",
       "      <th>1</th>\n",
       "      <td>13.86</td>\n",
       "      <td>13.0995</td>\n",
       "      <td>7.349907</td>\n",
       "      <td>38.10</td>\n",
       "      <td>1439.55</td>\n",
       "      <td>0.93401</td>\n",
       "      <td>8.780</td>\n",
       "      <td>4.7844</td>\n",
       "      <td>0.048826</td>\n",
       "      <td>0.167</td>\n",
       "      <td>c_avellana</td>\n",
       "    </tr>\n",
       "    <tr>\n",
       "      <th>2</th>\n",
       "      <td>20.53</td>\n",
       "      <td>15.5925</td>\n",
       "      <td>9.565427</td>\n",
       "      <td>49.89</td>\n",
       "      <td>1623.30</td>\n",
       "      <td>0.96217</td>\n",
       "      <td>5.120</td>\n",
       "      <td>5.2893</td>\n",
       "      <td>0.049521</td>\n",
       "      <td>0.174</td>\n",
       "      <td>c_americana</td>\n",
       "    </tr>\n",
       "    <tr>\n",
       "      <th>3</th>\n",
       "      <td>14.13</td>\n",
       "      <td>12.2220</td>\n",
       "      <td>7.182949</td>\n",
       "      <td>35.43</td>\n",
       "      <td>1412.25</td>\n",
       "      <td>0.90178</td>\n",
       "      <td>13.694</td>\n",
       "      <td>4.8168</td>\n",
       "      <td>0.049595</td>\n",
       "      <td>0.167</td>\n",
       "      <td>c_avellana</td>\n",
       "    </tr>\n",
       "    <tr>\n",
       "      <th>4</th>\n",
       "      <td>15.85</td>\n",
       "      <td>14.7240</td>\n",
       "      <td>8.622661</td>\n",
       "      <td>43.29</td>\n",
       "      <td>1512.00</td>\n",
       "      <td>0.96261</td>\n",
       "      <td>10.925</td>\n",
       "      <td>4.6296</td>\n",
       "      <td>0.050384</td>\n",
       "      <td>0.173</td>\n",
       "      <td>c_americana</td>\n",
       "    </tr>\n",
       "  </tbody>\n",
       "</table>\n",
       "</div>"
      ],
      "text/plain": [
       "      0        1         2      3        4        5       6       7   \\\n",
       "0  11.67  12.8025  8.055075  34.65  1375.50  0.93005  19.145  4.4604   \n",
       "1  13.86  13.0995  7.349907  38.10  1439.55  0.93401   8.780  4.7844   \n",
       "2  20.53  15.5925  9.565427  49.89  1623.30  0.96217   5.120  5.2893   \n",
       "3  14.13  12.2220  7.182949  35.43  1412.25  0.90178  13.694  4.8168   \n",
       "4  15.85  14.7240  8.622661  43.29  1512.00  0.96261  10.925  4.6296   \n",
       "\n",
       "         8      9            10  \n",
       "0  0.048668  0.175   c_avellana  \n",
       "1  0.048826  0.167   c_avellana  \n",
       "2  0.049521  0.174  c_americana  \n",
       "3  0.049595  0.167   c_avellana  \n",
       "4  0.050384  0.173  c_americana  "
      ]
     },
     "execution_count": 2,
     "metadata": {},
     "output_type": "execute_result"
    }
   ],
   "source": [
    "#importing csv file\n",
    "hazelnut = pd.read_csv(filepath_or_buffer  = \"C:\\MSc-Artificial Intelligence\\Semester 1\\Machine Learning\\Assignments\\hazelnut1.csv\", sep = ',', header = None)\n",
    "\n",
    "hazelnut.head()"
   ]
  },
  {
   "cell_type": "code",
   "execution_count": 3,
   "metadata": {},
   "outputs": [],
   "source": [
    "#seperating target & feature variables\n",
    "X = hazelnut.iloc[:,:-1].values\n",
    "y0 = hazelnut.iloc[:,-1].values"
   ]
  },
  {
   "cell_type": "code",
   "execution_count": 4,
   "metadata": {},
   "outputs": [
    {
     "name": "stdout",
     "output_type": "stream",
     "text": [
      "Accuracy score of split  1 :  98.50746268656717\n",
      "Accuracy score of split  2 :  95.52238805970148\n",
      "Accuracy score of split  3 :  92.53731343283582\n",
      "Accuracy score of split  4 :  94.02985074626866\n",
      "Accuracy score of split  5 :  95.52238805970148\n",
      "Accuracy score of split  6 :  97.01492537313433\n",
      "Accuracy score of split  7 :  95.52238805970148\n",
      "Accuracy score of split  8 :  97.01492537313433\n",
      "Accuracy score of split  9 :  94.02985074626866\n",
      "Accuracy score of split  10 :  97.01492537313433\n",
      "\n",
      "Average Accuracy score of model: 95.67164179104478\n"
     ]
    }
   ],
   "source": [
    "class LogisticRegression(object):\n",
    "    def __init__(self, alpha=0.01, num_iter=10000):\n",
    "            self.alpha = alpha\n",
    "            self.num_iter = num_iter\n",
    "            \n",
    "    def sigmoid(self, z):\n",
    "        sig = 1 / (1 + np.exp(-z))\n",
    "        return sig       #returns probabilities         \n",
    "\n",
    "    \n",
    "    def fit(self, X, y):\n",
    "        self.num_attributes = X.shape[1]\n",
    "        self.w = np.zeros((X.shape[1],))\n",
    "\n",
    "        for i in range(self.num_iter):     \n",
    "            z= np.dot(X,self.w)\n",
    "            h = self.sigmoid(z)\n",
    "            for j in range(self.num_attributes):           #number of columns in X\n",
    "                self.w[j] = self.w[j] - self.alpha * np.sum((h - y) * X[:,j])     #gradient descent\n",
    "                \n",
    "        return self.w    #returns the best value for w\n",
    "    \n",
    "    def predict_prob(self, X, w):\n",
    "        z1 = np.dot(X, w.T)\n",
    "        return self.sigmoid(z1)   #returns value from sigmoid function\n",
    "    \n",
    "    def predict(self, X, w):\n",
    "        h_pred = self.predict_prob(X, w)\n",
    "        y_max = np.argmax(h_pred, axis = 1)   #gives the index value of maximum probability\n",
    "        Predictions = []                      \n",
    "        for i in y_max:                       #converts 0's, 1's to strings of class name\n",
    "            if i == 0:\n",
    "                Predictions.append(\"c_americana\")\n",
    "            elif i == 1:\n",
    "                Predictions.append(\"c_avellana\")\n",
    "            elif i == 2:\n",
    "                Predictions.append(\"c_cornuta\")\n",
    "        return Predictions                   #returns predicted values\n",
    "\n",
    "Accuracy_10_fold = []\n",
    "for i in range(10):  #splits data into 10 random divisions\n",
    "    X_train, X_test, y_train, y_test = train_test_split(X, y0, test_size = 1/3, shuffle=True)  \n",
    "    #splits train data into 67% and test data into 33%\n",
    "\n",
    "    ss = StandardScaler() #normalize the data\n",
    "\n",
    "    X_train = ss.fit_transform(X_train)\n",
    "    X_test = ss.transform(X_test)\n",
    "    \n",
    "    #one vs rest\n",
    "    y1_train = np.where(y_train == 'c_americana', 1, 0)\n",
    "    y2_train = np.where(y_train == 'c_avellana', 1, 0)\n",
    "    y3_train = np.where(y_train == 'c_cornuta', 1, 0)\n",
    "\n",
    "    weights = np.zeros((3,10))\n",
    "    clf = LogisticRegression()\n",
    "\n",
    "    weights[0] = clf.fit(X_train, y1_train)  #training for 3 classes\n",
    "    weights[1] = clf.fit(X_train, y2_train)\n",
    "    weights[2] = clf.fit(X_train, y3_train)\n",
    "\n",
    "    y_pred = clf.predict(X_test, weights)   #predicting \n",
    "    Accuracy = accuracy_score(y_test, y_pred)  \n",
    "    \n",
    "    Accuracy_10_fold.append(Accuracy*100)  #compute accuracy score for each split\n",
    "    \n",
    "    print(\"Accuracy score of split \", i+1, \": \", Accuracy_10_fold[i])\n",
    "\n",
    "Avg_Accuracy = np.mean(Accuracy_10_fold)  # returns mean of all the scores\n",
    "print(\"\\nAverage Accuracy score of model:\", Avg_Accuracy)"
   ]
  },
  {
   "cell_type": "code",
   "execution_count": 6,
   "metadata": {},
   "outputs": [
    {
     "data": {
      "image/png": "[encoded data removed]",
      "text/plain": [
       "<Figure size 432x288 with 1 Axes>"
      ]
     },
     "metadata": {
      "needs_background": "light"
     },
     "output_type": "display_data"
    }
   ],
   "source": [
    "# Confusion Matrix\n",
    "matrix = confusion_matrix(y_test, y_pred)\n",
    "\n",
    "#heatmap\n",
    "plot1 = sns.heatmap(matrix,annot=True,cbar=False)\n",
    "plt.ylabel('Predicted Value')\n",
    "plt.xlabel('True Value')\n",
    "plt.title('Confusion Matrix')\n",
    "plt.show()"
   ]
  },
  {
   "cell_type": "code",
   "execution_count": 7,
   "metadata": {},
   "outputs": [
    {
     "name": "stdout",
     "output_type": "stream",
     "text": [
      "Accuracy score of cross validation  1 :  95.23809523809523\n",
      "Accuracy score of cross validation  2 :  90.47619047619048\n",
      "Accuracy score of cross validation  3 :  85.71428571428571\n",
      "Accuracy score of cross validation  4 :  95.23809523809523\n",
      "Accuracy score of cross validation  5 :  90.47619047619048\n",
      "Accuracy score of cross validation  6 :  95.0\n",
      "Accuracy score of cross validation  7 :  89.47368421052632\n",
      "Accuracy score of cross validation  8 :  100.0\n",
      "Accuracy score of cross validation  9 :  100.0\n",
      "Accuracy score of cross validation  10 :  89.47368421052632\n",
      "\n",
      "Accuracy score of scikit learn model: 93.10902255639097\n"
     ]
    }
   ],
   "source": [
    "# Reference logistic Regression to compare model\n",
    "\n",
    "from sklearn.linear_model import LogisticRegression\n",
    "\n",
    "ref = LogisticRegression(random_state=0, solver='lbfgs',multi_class='multinomial').fit(X, y0)\n",
    "ref.predict(X)\n",
    "X = ss.fit_transform(X)\n",
    "for i in range(10):\n",
    "    scores = cross_val_score(ref, X, y0, cv=10) * 100\n",
    "    print(\"Accuracy score of cross validation \", i+1, \": \", scores[i])\n",
    "score1 = np.mean(scores)\n",
    "print(\"\\nAccuracy score of scikit learn model:\", score1)"
   ]
  },
  {
   "cell_type": "code",
   "execution_count": 8,
   "metadata": {},
   "outputs": [
    {
     "data": {
      "image/png": "[encoded data removed]",
      "text/plain": [
       "<Figure size 360x360 with 1 Axes>"
      ]
     },
     "metadata": {
      "needs_background": "light"
     },
     "output_type": "display_data"
    }
   ],
   "source": [
    "#learning curve\n",
    "plt.figure(figsize=(5,5))\n",
    "plt.plot(range(10), scores, label = 'scikit learn')\n",
    "plt.plot(range(10), Accuracy_10_fold, label = 'my model')\n",
    "plt.ylabel('Accuracy(%)')\n",
    "plt.xlabel('Iteration')\n",
    "plt.legend()\n",
    "plt.show()"
   ]
  },
  {
   "cell_type": "code",
   "execution_count": 9,
   "metadata": {},
   "outputs": [],
   "source": [
    "#writing to csv\n",
    "\n",
    "predictions = list()\n",
    "for i in range(len(y_pred)):\n",
    "    predictions.append([y_test[i], y_pred[i], \"True\" if y_pred[i] == y_test[i] else \"False\"])\n",
    "    Predict = pd.DataFrame(predictions, columns=[\"True Value\", \"Predicted Value\", \"Output\"])\n",
    "\n",
    "Predict.to_csv('LogisticRegression.csv', header=True, index=False)"
   ]
  },
  {
   "cell_type": "code",
   "execution_count": null,
   "metadata": {},
   "outputs": [],
   "source": []
  }
 ],
 "metadata": {
  "kernelspec": {
   "display_name": "Python 3",
   "language": "python",
   "name": "python3"
  },
  "language_info": {
   "codemirror_mode": {
    "name": "ipython",
    "version": 3
   },
   "file_extension": ".py",
   "mimetype": "text/x-python",
   "name": "python",
   "nbconvert_exporter": "python",
   "pygments_lexer": "ipython3",
   "version": "3.7.3"
  }
 },
 "nbformat": 4,
 "nbformat_minor": 2
}
